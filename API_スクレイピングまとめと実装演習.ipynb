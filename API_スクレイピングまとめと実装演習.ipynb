{
 "cells": [
  {
   "cell_type": "markdown",
   "id": "7e949cff",
   "metadata": {},
   "source": [
    "# APIとは\n",
    "APIは、**Application Programming Interface**の略で、ソフトウェアやプログラム、Webサービスの間をつなぐインターフェイスのこと。APIを利用することで、様々な既成のサービスを利用したり、それらと連携したりすることが出来る。"
   ]
  },
  {
   "cell_type": "markdown",
   "id": "ae7eeddf",
   "metadata": {},
   "source": [
    "## NewsAPI演習\n",
    "今回は、日本語の記事でウクライナに関する記事を収集し、pprintで出力してみる。"
   ]
  },
  {
   "cell_type": "code",
   "execution_count": 1,
   "id": "bbf78813",
   "metadata": {},
   "outputs": [
    {
     "name": "stdout",
     "output_type": "stream",
     "text": [
      "{'articles': [{'author': '日本経済新聞社',\n",
      "               'content': None,\n",
      "               'description': '【ワシントン=中村亮】ウクライナ軍が4月中旬にロシア黒海艦隊旗艦の巡洋艦「モスクワ」をミサイル攻撃で撃沈した際、米国から得た情報を活用していたことが5日、分かった。複数の米メディアが報じた。モスクワはロシア海軍の強さの象徴で、米国の関与にロシアが反発を強める可能性がある。米国防総省高官は日本経済新聞の取材で「ウクライナ軍が黒海にいるロシア船の脅威を把握したり、海からの潜在的な攻撃に対する防衛の',\n",
      "               'publishedAt': '2022-05-06T08:50:03Z',\n",
      "               'source': {'id': None, 'name': 'Nikkei.com'},\n",
      "               'title': '米、旗艦「モスクワ」撃沈支援か ウクライナに情報提供（写真=ロイター） - 日本経済新聞',\n",
      "               'url': 'https://www.nikkei.com/article/DGXZQOGN0604Y0W2A500C2000000/',\n",
      "               'urlToImage': 'https://article-image-ix.nikkei.com/https%3A%2F%2Fimgix-proxy.n8s.jp%2FDSXZQO1894806006052022000000-1.jpg?ixlib=js-2.3.2&auto=format%2Ccompress&ch=Width%2CDPR&q=45&fit=crop&bg=FFFFFF&w=1200&h=630&fp-x=0.5&fp-y=0.5&fp-z=1&crop=focalpoint&s=ad831ca9815bdf596f737c1e6c3eb4ee'},\n",
      "              {'author': None,\n",
      "               'content': 'Your browser isnt supported anymore. Update it to '\n",
      "                          'get the best YouTube experience and our latest '\n",
      "                          'features. Learn more\\r\\n'\n",
      "                          'Remind me later',\n",
      "               'description': None,\n",
      "               'publishedAt': '2022-05-06T07:57:42Z',\n",
      "               'source': {'id': None, 'name': 'YouTube'},\n",
      "               'title': '【速報】製鉄所は「数日以内に制圧か」 アメリカ研究機関が最新分析 [ウクライナ侵攻] - '\n",
      "                        'FNNプライムオンライン',\n",
      "               'url': 'https://www.youtube.com/supported_browsers?next_url=https:%2F%2Fwww.youtube.com%2Fwatch%3Fv%3DATMcJoLkoUo',\n",
      "               'urlToImage': None},\n",
      "              {'author': '産経ニュース',\n",
      "               'content': None,\n",
      "               'description': 'ウクライナに侵攻したロシアのプーチン大統領は５日、イスラエルのベネット首相と電話会談し、ナチス・ドイツの総統ヒトラーが「ユダヤ系だった」としたラブロフ露外相の…',\n",
      "               'publishedAt': '2022-05-06T00:34:23Z',\n",
      "               'source': {'id': None, 'name': 'Sankei.com'},\n",
      "               'title': 'プーチン氏、露外相発言でイスラエル首相に謝罪 「ヒトラーはユダヤ系」 - 産経ニュース',\n",
      "               'url': 'https://www.sankei.com/article/20220506-IW3HTV737FNUBLQZTL5T52JZ7A/',\n",
      "               'urlToImage': 'https://www.sankei.com/resizer/G2v2r8Z5JNZATyl8CVTypJptSDc=/1200x630/smart/cloudfront-ap-northeast-1.images.arcpublishing.com/sankei/YHF24YJUQFNJ7AUIK3SKXDWUUQ.jpg'}],\n",
      " 'status': 'ok',\n",
      " 'totalResults': 3}\n"
     ]
    }
   ],
   "source": [
    "!pip install -q newsapi-python\n",
    "from newsapi import NewsApiClient\n",
    "from pprint import pprint\n",
    "\n",
    "api = NewsApiClient(api_key='18e8f132860b4fdb93f267e4aa9e1e2c')\n",
    "\n",
    "top_headlines = api.get_top_headlines(q='ウクライナ', language=None, country='jp')\n",
    "\n",
    "pprint(top_headlines)"
   ]
  },
  {
   "cell_type": "markdown",
   "id": "b34d49db",
   "metadata": {},
   "source": [
    "# Webスクレイピングとは\n",
    "Webスクレイピングとは、Webサイトから任意の情報を抽出、整形、解析する技術のこと。"
   ]
  },
  {
   "cell_type": "markdown",
   "id": "13baeb26",
   "metadata": {},
   "source": [
    "## Webスクレイピング演習\n",
    "今回は、SUUMOのサイトから物件情報をスクレイピングし、結果をcsvファイルに出力する。"
   ]
  },
  {
   "cell_type": "code",
   "execution_count": 13,
   "id": "137106aa",
   "metadata": {},
   "outputs": [
    {
     "name": "stdout",
     "output_type": "stream",
     "text": [
      "d_listの大きさ： 0\n",
      "https://suumo.jp/chintai/tokyo/sc_shinjuku/?page1\n",
      "d_listの大きさ： 181\n",
      "https://suumo.jp/chintai/tokyo/sc_shinjuku/?page2\n",
      "finished to convert to csv\n"
     ]
    }
   ],
   "source": [
    "!pip install -q pandas\n",
    "from time import sleep\n",
    "import re\n",
    "\n",
    "from bs4 import BeautifulSoup\n",
    "import requests\n",
    "import pandas as pd\n",
    "\n",
    "url = 'https://suumo.jp/chintai/tokyo/sc_shinjuku/?page{}'\n",
    "\n",
    "d_list = []\n",
    "\n",
    "for i in range(1, 3):\n",
    "    print('d_listの大きさ：', len(d_list))\n",
    "    target_url = url.format(i)\n",
    "    \n",
    "    print(target_url)\n",
    "    \n",
    "    r = requests.get(target_url)\n",
    "    \n",
    "    sleep(1)\n",
    "    \n",
    "    soup = BeautifulSoup(r.text)\n",
    "    \n",
    "    contents = soup.find_all('div', class_='cassetteitem')\n",
    "    \n",
    "    for content in contents:\n",
    "        \n",
    "        detail = content.find('div', class_='cassetteitem_content')\n",
    "        table = content.find('table', class_='cassetteitem_other')\n",
    "        \n",
    "        title = detail.find('div', class_='cassetteitem_content-title').text\n",
    "        address = detail.find('li', class_='cassetteitem_detail-col1').text\n",
    "        access = detail.find('li', class_='cassetteitem_detail-col2').text\n",
    "        age = detail.find('li', class_='cassetteitem_detail-col3').text\n",
    "        \n",
    "        tr_tags = table.find_all('tr', class_='js-cassette_link')\n",
    "        \n",
    "        for tr_tag in tr_tags:\n",
    "            \n",
    "            floor, price, first_fee, capacity = tr_tag.find_all('td')[2:6]\n",
    "            \n",
    "            fee, management_fee = price.find_all('li')\n",
    "            deposit, gratuity = first_fee.find_all('li')\n",
    "            madori, menseki = capacity.find_all('li')\n",
    "            \n",
    "            d = {\n",
    "                'title': title,\n",
    "                'address': address,\n",
    "                'access': access,\n",
    "                'age': age,\n",
    "                'floor': floor.text,\n",
    "                'fee': fee.text,\n",
    "                'management_fee': management_fee.text,\n",
    "                'deposit': deposit.text,\n",
    "                'gratuity': gratuity.text,\n",
    "                'madori': madori.text,\n",
    "                'menseki': menseki.text\n",
    "            }\n",
    "            \n",
    "            d_list.append(d)\n",
    "\n",
    "df = pd.DataFrame(d_list)\n",
    "\n",
    "df2 = df.applymap(lambda x: re.sub('\\n', ' ', x))\n",
    "\n",
    "df2.to_csv('test.csv', index=None, encoding='utf-8-sig')\n",
    "print('finished to convert to csv')"
   ]
  }
 ],
 "metadata": {
  "kernelspec": {
   "display_name": "Python 3 (ipykernel)",
   "language": "python",
   "name": "python3"
  },
  "language_info": {
   "codemirror_mode": {
    "name": "ipython",
    "version": 3
   },
   "file_extension": ".py",
   "mimetype": "text/x-python",
   "name": "python",
   "nbconvert_exporter": "python",
   "pygments_lexer": "ipython3",
   "version": "3.10.2"
  }
 },
 "nbformat": 4,
 "nbformat_minor": 5
}
